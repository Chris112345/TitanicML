{
 "cells": [
  {
   "cell_type": "markdown",
   "metadata": {},
   "source": [
    "# Tree Methods"
   ]
  },
  {
   "cell_type": "markdown",
   "metadata": {},
   "source": [
    "## Imported Libraries"
   ]
  },
  {
   "cell_type": "code",
   "execution_count": 1,
   "metadata": {},
   "outputs": [],
   "source": [
    "import pandas as pd\n",
    "import numpy as np\n",
    "import math\n",
    "import matplotlib"
   ]
  },
  {
   "cell_type": "markdown",
   "metadata": {},
   "source": [
    "## Data Extraction"
   ]
  },
  {
   "cell_type": "code",
   "execution_count": 2,
   "metadata": {},
   "outputs": [
    {
     "data": {
      "text/plain": [
       "array([[<matplotlib.axes._subplots.AxesSubplot object at 0x100DC3B0>,\n",
       "        <matplotlib.axes._subplots.AxesSubplot object at 0x03F70450>,\n",
       "        <matplotlib.axes._subplots.AxesSubplot object at 0x111686F0>],\n",
       "       [<matplotlib.axes._subplots.AxesSubplot object at 0x1118B7D0>,\n",
       "        <matplotlib.axes._subplots.AxesSubplot object at 0x111AA8B0>,\n",
       "        <matplotlib.axes._subplots.AxesSubplot object at 0x111CB990>],\n",
       "       [<matplotlib.axes._subplots.AxesSubplot object at 0x111EBAF0>,\n",
       "        <matplotlib.axes._subplots.AxesSubplot object at 0x1120D5B0>,\n",
       "        <matplotlib.axes._subplots.AxesSubplot object at 0x1120DB50>]],\n",
       "      dtype=object)"
      ]
     },
     "execution_count": 2,
     "metadata": {},
     "output_type": "execute_result"
    }
   ],
   "source": [
    "trainingData = pd.read_csv(\"../Data/train.csv\")\n",
    "trainingData.hist(bins = 10)"
   ]
  },
  {
   "cell_type": "markdown",
   "metadata": {},
   "source": [
    "## Binning Analog Data"
   ]
  },
  {
   "cell_type": "code",
   "execution_count": 3,
   "metadata": {},
   "outputs": [],
   "source": [
    "AgeBins = pd.IntervalIndex.from_tuples([(0,15),(15,30),(30,45),(45,60),(60,75),(75,90),(90,105),(105,120)])\n",
    "TicketBins = pd.IntervalIndex.from_tuples([(0,50000), (50000,100000), (100000,150000),(150000,200000),(200000, 250000), (250000, 300000), (300000, 350000)])\n",
    "CostBins = pd.IntervalIndex.from_tuples([(-1, 50),(50,100), (100,150), (150, 200), (200, 250), (250, 300), (300,350), (350,400), (400, 450), (450, 500), (500, 550)])\n",
    "\n",
    "trainingData[\"AgeGroup\"] = pd.cut(trainingData['Age'], bins=AgeBins).cat.add_categories(pd.Interval(-2,-1)).fillna(pd.Interval(-2,-1))\n",
    "trainingData['TicketGroup'] = pd.cut(pd.to_numeric(trainingData['Ticket'], errors=\"coerce\"), bins=TicketBins).cat.add_categories(pd.Interval(-2,-1)).fillna(pd.Interval(-2,-1))\n",
    "trainingData['CostGroup'] = pd.cut(trainingData['Fare'], bins=CostBins).cat.add_categories(pd.Interval(-2,-1)).fillna(pd.Interval(-2,-1))"
   ]
  },
  {
   "cell_type": "markdown",
   "metadata": {},
   "source": [
    "## Tree Data Structure"
   ]
  },
  {
   "cell_type": "code",
   "execution_count": 4,
   "metadata": {},
   "outputs": [],
   "source": [
    "class Tree:\n",
    "    \n",
    "    def __init__(self, feature, children):\n",
    "        self.feature = feature\n",
    "        self.children = children\n",
    "        \n",
    "    def getFeature(self):\n",
    "        return self.feature\n",
    "    \n",
    "    def search(self,datapoint):\n",
    "        if self.children is None:\n",
    "            return self.getFeature()\n",
    "        point = datapoint.get(self.feature)\n",
    "        for child in self.children:\n",
    "            if child[0] == point:\n",
    "                return child[1].search(datapoint)\n",
    "        "
   ]
  },
  {
   "cell_type": "markdown",
   "metadata": {},
   "source": [
    "## Tree Structure Test"
   ]
  },
  {
   "cell_type": "code",
   "execution_count": 5,
   "metadata": {},
   "outputs": [],
   "source": [
    "leaf1 = Tree(0, None)\n",
    "leaf2 = Tree(1, None)\n",
    "leaf3 = Tree(1, None)\n",
    "\n",
    "branch = Tree(\"test2\", [[\"b1\",leaf1], [\"b2\",leaf2]])\n",
    "root = Tree(\"test1\", [[\"a1\",branch], [\"a2\",leaf3]])\n",
    "\n",
    "EXdata = pd.Series(data=[\"a1\",\"b1\"],index=[\"test1\",\"test2\"])\n",
    "\n",
    "assert 0 == root.search(EXdata)"
   ]
  },
  {
   "cell_type": "markdown",
   "metadata": {},
   "source": [
    "## Information Gain Functions"
   ]
  },
  {
   "cell_type": "code",
   "execution_count": 6,
   "metadata": {},
   "outputs": [],
   "source": [
    "def Entropy(dataSet):\n",
    "    result1 = dataSet[dataSet['Survived'] == 1].size/dataSet.size\n",
    "    if result1 == 0 or result1 == 1:\n",
    "        return 0\n",
    "    result1 = result1*np.log2(result1)\n",
    "    result2 = dataSet[dataSet['Survived'] == 0].size/dataSet.size\n",
    "    result2 =  result2*np.log2(result2)\n",
    "    return -1* (result1 + result2)"
   ]
  },
  {
   "cell_type": "code",
   "execution_count": 7,
   "metadata": {},
   "outputs": [
    {
     "name": "stdout",
     "output_type": "stream",
     "text": [
      "0.06112152898423162\n"
     ]
    }
   ],
   "source": [
    "def InformationGain(dataSet, feature):\n",
    "    \n",
    "    totalE = Entropy(dataSet)\n",
    "    sumE = 0\n",
    "    \n",
    "    values, counts = np.unique(dataSet[feature], return_counts = True)\n",
    "    for val in values:\n",
    "        sumE += (dataSet[dataSet[feature] == val].size)/dataSet.size*Entropy(dataSet[dataSet[feature] == val])\n",
    "    return totalE - sumE\n",
    "        "
   ]
  },
  {
   "cell_type": "markdown",
   "metadata": {},
   "source": [
    "## Tree Builder"
   ]
  },
  {
   "cell_type": "code",
   "execution_count": 70,
   "metadata": {},
   "outputs": [],
   "source": [
    "def BuildTree(depth,features,dataset):\n",
    "    \n",
    "    print(features)\n",
    "    \n",
    "    values, counts = np.unique(dataset[\"Survived\"], return_counts = True)\n",
    "    if counts[0] == dataset.size:\n",
    "        return Tree(values[0], None)\n",
    "    \n",
    "        \n",
    "    \n",
    "    best = None\n",
    "    bestIG = 0\n",
    "    for feat in features:\n",
    "        IG = InformationGain(dataset, feat)\n",
    "        if best == None or bestIG < IG:\n",
    "            best = feat\n",
    "            bestIG = IG\n",
    "    \n",
    "    children = []\n",
    "    if depth == 1 or len(features) == 1:\n",
    "        for val in np.unique(dataset[best]):\n",
    "            children.append([val,Tree(dataset[dataset[best] == val].mode().loc[0, \"Survived\"], None)])\n",
    "    else:\n",
    "        subset = features.copy()\n",
    "        subset.remove(best)\n",
    "        for val in np.unique(dataset[best]):\n",
    "            \n",
    "            children.append([val, BuildTree(depth-1, subset, dataset[dataset[best] == val])])\n",
    "                            \n",
    "    return Tree(best, children)\n",
    "\n"
   ]
  },
  {
   "cell_type": "markdown",
   "metadata": {},
   "source": [
    "## Testing Tree Builder"
   ]
  },
  {
   "cell_type": "code",
   "execution_count": 71,
   "metadata": {},
   "outputs": [
    {
     "name": "stdout",
     "output_type": "stream",
     "text": [
      "['AgeGroup', 'CostGroup', 'TicketGroup']\n",
      "['AgeGroup', 'TicketGroup']\n",
      "['AgeGroup']\n",
      "['AgeGroup']\n",
      "['AgeGroup']\n",
      "['AgeGroup']\n",
      "['AgeGroup']\n",
      "['AgeGroup']\n",
      "['AgeGroup']\n",
      "['AgeGroup', 'TicketGroup']\n",
      "['AgeGroup']\n",
      "['AgeGroup']\n",
      "['AgeGroup']\n",
      "['AgeGroup']\n",
      "['AgeGroup', 'TicketGroup']\n",
      "['TicketGroup']\n",
      "['TicketGroup']\n",
      "['TicketGroup']\n",
      "['TicketGroup']\n",
      "['TicketGroup']\n",
      "['AgeGroup', 'TicketGroup']\n",
      "['AgeGroup']\n",
      "['AgeGroup']\n",
      "['AgeGroup']\n",
      "['AgeGroup', 'TicketGroup']\n",
      "['TicketGroup']\n",
      "['TicketGroup']\n",
      "['TicketGroup']\n",
      "['TicketGroup']\n",
      "['TicketGroup']\n",
      "['AgeGroup', 'TicketGroup']\n",
      "['TicketGroup']\n",
      "['TicketGroup']\n",
      "['AgeGroup', 'TicketGroup']\n",
      "['TicketGroup']\n"
     ]
    },
    {
     "data": {
      "text/plain": [
       "0.0"
      ]
     },
     "execution_count": 71,
     "metadata": {},
     "output_type": "execute_result"
    }
   ],
   "source": [
    "testTree = BuildTree(3, [\"AgeGroup\", \"CostGroup\", \"TicketGroup\"], trainingData)\n",
    "testTree.search(trainingData.loc[4])"
   ]
  },
  {
   "cell_type": "code",
   "execution_count": null,
   "metadata": {},
   "outputs": [],
   "source": []
  }
 ],
 "metadata": {
  "kernelspec": {
   "display_name": "Python 3",
   "language": "python",
   "name": "python3"
  },
  "language_info": {
   "codemirror_mode": {
    "name": "ipython",
    "version": 3
   },
   "file_extension": ".py",
   "mimetype": "text/x-python",
   "name": "python",
   "nbconvert_exporter": "python",
   "pygments_lexer": "ipython3",
   "version": "3.7.4"
  }
 },
 "nbformat": 4,
 "nbformat_minor": 2
}
