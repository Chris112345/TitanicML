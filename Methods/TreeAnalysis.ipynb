{
 "cells": [
  {
   "cell_type": "markdown",
   "metadata": {},
   "source": [
    "# Tree Methods"
   ]
  },
  {
   "cell_type": "markdown",
   "metadata": {},
   "source": [
    "## Imported Libraries"
   ]
  },
  {
   "cell_type": "code",
   "execution_count": 35,
   "metadata": {},
   "outputs": [],
   "source": [
    "import pandas as pd\n",
    "import numpy as np\n",
    "import math\n",
    "import matplotlib"
   ]
  },
  {
   "cell_type": "markdown",
   "metadata": {},
   "source": [
    "## Data Extraction"
   ]
  },
  {
   "cell_type": "code",
   "execution_count": 44,
   "metadata": {},
   "outputs": [
    {
     "data": {
      "text/plain": [
       "array([[<matplotlib.axes._subplots.AxesSubplot object at 0x121BD5B0>,\n",
       "        <matplotlib.axes._subplots.AxesSubplot object at 0x123B48F0>,\n",
       "        <matplotlib.axes._subplots.AxesSubplot object at 0x123CA9B0>],\n",
       "       [<matplotlib.axes._subplots.AxesSubplot object at 0x123E6A90>,\n",
       "        <matplotlib.axes._subplots.AxesSubplot object at 0x12406B70>,\n",
       "        <matplotlib.axes._subplots.AxesSubplot object at 0x12427C50>],\n",
       "       [<matplotlib.axes._subplots.AxesSubplot object at 0x12446DB0>,\n",
       "        <matplotlib.axes._subplots.AxesSubplot object at 0x12466870>,\n",
       "        <matplotlib.axes._subplots.AxesSubplot object at 0x12466E10>]],\n",
       "      dtype=object)"
      ]
     },
     "execution_count": 44,
     "metadata": {},
     "output_type": "execute_result"
    },
    {
     "data": {
      "image/png": "[encoded data removed]",
      "text/plain": [
       "<Figure size 432x288 with 9 Axes>"
      ]
     },
     "metadata": {
      "needs_background": "light"
     },
     "output_type": "display_data"
    }
   ],
   "source": [
    "trainingData = pd.read_csv(\"../Data/train.csv\")\n",
    "trainingData.hist(bins = 10)"
   ]
  },
  {
   "cell_type": "markdown",
   "metadata": {},
   "source": [
    "## Binning Analog Data"
   ]
  },
  {
   "cell_type": "code",
   "execution_count": 43,
   "metadata": {},
   "outputs": [],
   "source": [
    "AgeBins = pd.IntervalIndex.from_tuples([(0,15),(15,30),(30,45),(45,60),(60,75),(75,90),(90,105),(105,120)])\n",
    "TicketBins = pd.IntervalIndex.from_tuples([(0,50000), (50000,100000), (100000,150000),(150000,200000),(200000, 250000), (250000, 300000), (300000, 350000)])\n",
    "CostBins = pd.IntervalIndex.from_tuples([(-1, 50),(50,100), (100,150), (150, 200), (200, 250), (250, 300), (300,350), (350,400), (400, 450), (450, 500), (500, 550)])\n",
    "\n",
    "trainingData[\"AgeGroup\"] = pd.cut(trainingData['Age'], bins=AgeBins).cat.add_categories(pd.Interval(-2,-1)).fillna(pd.Interval(-2,-1))\n",
    "trainingData['TicketGroup'] = pd.cut(pd.to_numeric(trainingData['Ticket'], errors=\"coerce\"), bins=TicketBins).cat.add_categories(pd.Interval(-2,-1)).fillna(pd.Interval(-2,-1))\n",
    "trainingData['CostGroup'] = pd.cut(trainingData['Fare'], bins=CostBins).cat.add_categories(pd.Interval(-2,-1)).fillna(pd.Interval(-2,-1))"
   ]
  },
  {
   "cell_type": "markdown",
   "metadata": {},
   "source": [
    "## Tree Data Structure"
   ]
  },
  {
   "cell_type": "code",
   "execution_count": 4,
   "metadata": {},
   "outputs": [],
   "source": [
    "class Tree:\n",
    "    \n",
    "    def __init__(self, feature, children):\n",
    "        self.feature = feature\n",
    "        self.children = children\n",
    "        \n",
    "    def getFeature(self):\n",
    "        return self.feature\n",
    "    \n",
    "    def search(self,datapoint):\n",
    "        if self.children is None:\n",
    "            return self.getFeature()\n",
    "        point = datapoint.get(self.feature)\n",
    "        for child in self.children:\n",
    "            if child[0] == point:\n",
    "                return child[1].search(datapoint)\n",
    "        "
   ]
  },
  {
   "cell_type": "markdown",
   "metadata": {},
   "source": [
    "## Tree Structure Test"
   ]
  },
  {
   "cell_type": "code",
   "execution_count": 5,
   "metadata": {},
   "outputs": [],
   "source": [
    "leaf1 = Tree(0, None)\n",
    "leaf2 = Tree(1, None)\n",
    "leaf3 = Tree(1, None)\n",
    "\n",
    "branch = Tree(\"test2\", [[\"b1\",leaf1], [\"b2\",leaf2]])\n",
    "root = Tree(\"test1\", [[\"a1\",branch], [\"a2\",leaf3]])\n",
    "\n",
    "EXdata = pd.Series(data=[\"a1\",\"b1\"],index=[\"test1\",\"test2\"])\n",
    "\n",
    "assert 0 == root.search(EXdata)"
   ]
  },
  {
   "cell_type": "markdown",
   "metadata": {},
   "source": [
    "## Information Gain Functions"
   ]
  },
  {
   "cell_type": "code",
   "execution_count": 6,
   "metadata": {},
   "outputs": [],
   "source": [
    "def Entropy(dataSet):\n",
    "    result1 = dataSet[dataSet['Survived'] == 1].size/dataSet.size\n",
    "    if result1 == 0 or result1 == 1:\n",
    "        return 0\n",
    "    result1 = result1*np.log2(result1)\n",
    "    result2 = dataSet[dataSet['Survived'] == 0].size/dataSet.size\n",
    "    result2 =  result2*np.log2(result2)\n",
    "    return -1* (result1 + result2)"
   ]
  },
  {
   "cell_type": "code",
   "execution_count": 31,
   "metadata": {},
   "outputs": [
    {
     "name": "stdout",
     "output_type": "stream",
     "text": [
      "0.06112152898423162\n"
     ]
    }
   ],
   "source": [
    "def InformationGain(dataSet, feature):\n",
    "    \n",
    "    totalE = Entropy(dataSet)\n",
    "    sumE = 0\n",
    "    \n",
    "    values, counts = np.unique(dataSet[feature], return_counts = True)\n",
    "    for val in values:\n",
    "        sumE += (dataSet[dataSet[feature] == val].size)/dataSet.size*Entropy(dataSet[dataSet[feature] == val])\n",
    "    return totalE - sumE\n",
    "        \n",
    "        \n",
    "\n",
    "print(InformationGain(trainingData, \"CostGroup\"))"
   ]
  },
  {
   "cell_type": "code",
   "execution_count": null,
   "metadata": {},
   "outputs": [],
   "source": []
  }
 ],
 "metadata": {
  "kernelspec": {
   "display_name": "Python 3",
   "language": "python",
   "name": "python3"
  },
  "language_info": {
   "codemirror_mode": {
    "name": "ipython",
    "version": 3
   },
   "file_extension": ".py",
   "mimetype": "text/x-python",
   "name": "python",
   "nbconvert_exporter": "python",
   "pygments_lexer": "ipython3",
   "version": "3.7.4"
  }
 },
 "nbformat": 4,
 "nbformat_minor": 2
}
