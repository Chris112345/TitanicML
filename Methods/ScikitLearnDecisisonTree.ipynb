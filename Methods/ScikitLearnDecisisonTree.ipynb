{
 "cells": [
  {
   "cell_type": "markdown",
   "metadata": {},
   "source": [
    "# Importing Libraries"
   ]
  },
  {
   "cell_type": "code",
   "execution_count": 9,
   "metadata": {},
   "outputs": [],
   "source": [
    "from sklearn import tree\n",
    "from sklearn.preprocessing import OrdinalEncoder\n",
    "import pandas as pd\n",
    "import numpy as np\n",
    "import re\n",
    "import csv"
   ]
  },
  {
   "cell_type": "markdown",
   "metadata": {},
   "source": [
    "# Modifying Input Data"
   ]
  },
  {
   "cell_type": "code",
   "execution_count": 2,
   "metadata": {},
   "outputs": [],
   "source": [
    "trainingData = pd.read_csv(\"../Data/train.csv\")\n",
    "trainingData[\"Cabin\"] = trainingData[\"Cabin\"].apply(str)\n",
    "trainingData[\"Embarked\"] = trainingData[\"Embarked\"].apply(str)\n",
    "\n",
    "AgeBins = pd.IntervalIndex.from_tuples([(0,15),(15,30),(30,45),(45,60),(60,75),(75,90),(90,105),(105,120)])\n",
    "TicketBins = pd.IntervalIndex.from_tuples([(0,50000), (50000,100000), (100000,150000),(150000,200000),(200000, 250000), (250000, 300000), (300000, 350000)])\n",
    "CostBins = pd.IntervalIndex.from_tuples([(-1, 50),(50,100), (100,150), (150, 200), (200, 250), (250, 300), (300,350), (350,400), (400, 450), (450, 500), (500, 550)])\n",
    "\n",
    "trainingData[\"AgeGroup\"] = pd.cut(trainingData['Age'], bins=AgeBins).cat.add_categories(pd.Interval(-2,-1)).fillna(pd.Interval(-2,-1))\n",
    "trainingData['TicketGroup'] = pd.cut(pd.to_numeric(trainingData['Ticket'], errors=\"coerce\"), bins=TicketBins).cat.add_categories(pd.Interval(-2,-1)).fillna(pd.Interval(-2,-1))\n",
    "trainingData['CostGroup'] = pd.cut(trainingData['Fare'], bins=CostBins).cat.add_categories(pd.Interval(-2,-1)).fillna(pd.Interval(-2,-1))\n",
    "\n",
    "def nameClass(row):\n",
    "    if (re.search(\"Mr\\.\",row[\"Name\"])):\n",
    "        return(\"Mr.\")\n",
    "    elif (re.search(\"Mrs\\.\",row[\"Name\"])):\n",
    "        return(\"Mrs.\")\n",
    "    elif (re.search(\"Miss\\.\",row[\"Name\"])):\n",
    "        return(\"Miss.\")\n",
    "    else:\n",
    "        return(\"No Title\")\n",
    "        \n",
    "trainingData[\"Title\"] = trainingData.apply(lambda row: nameClass(row), axis=1)\n",
    "trainingData.drop([\"Name\", \"Age\", \"Ticket\", \"Fare\"], axis=1,inplace=True)\n",
    "\n",
    "features = [\"Pclass\", \"Sex\", \"SibSp\", \"Parch\", \"Cabin\", \"Embarked\", \"AgeGroup\", \"TicketGroup\", \"CostGroup\", \"Title\"]\n",
    "results = trainingData[\"Survived\"]\n",
    "encoder = OrdinalEncoder()\n",
    "encoder.fit(trainingData[features])\n",
    "trainingData = encoder.transform(trainingData[features])"
   ]
  },
  {
   "cell_type": "markdown",
   "metadata": {},
   "source": [
    "# CV-Sets"
   ]
  },
  {
   "cell_type": "code",
   "execution_count": 3,
   "metadata": {},
   "outputs": [],
   "source": [
    "TrainingSets = []\n",
    "TestSets = []\n",
    "NUM_SETS = 5\n",
    "\n",
    "for index in range(NUM_SETS):\n",
    "    temp = []\n",
    "    start = (NUM_SETS-index-1)*len(trainingData)//NUM_SETS\n",
    "    end = (NUM_SETS-index)*len(trainingData)//NUM_SETS\n",
    "    temp.append(np.append(trainingData[0:start],trainingData[end:], axis=0))\n",
    "    temp.append(results[0:start].append(results[end:]))\n",
    "    TrainingSets.append(temp)\n",
    "    temp = []\n",
    "    temp.append(trainingData[start:end])\n",
    "    temp.append(results[start:end])\n",
    "    TestSets.append(temp)"
   ]
  },
  {
   "cell_type": "markdown",
   "metadata": {},
   "source": [
    "# Accuracy Function"
   ]
  },
  {
   "cell_type": "code",
   "execution_count": 4,
   "metadata": {},
   "outputs": [],
   "source": [
    "def accuracy(data,model,result):\n",
    "    predictions = model.predict(data)\n",
    "    total = 0\n",
    "    for pred in range(len(predictions)):\n",
    "        if predictions[pred] == result[pred]:\n",
    "            total+=1\n",
    "    return total/len(data)"
   ]
  },
  {
   "cell_type": "markdown",
   "metadata": {},
   "source": [
    "# Cross-Validation"
   ]
  },
  {
   "cell_type": "code",
   "execution_count": 5,
   "metadata": {},
   "outputs": [
    {
     "name": "stdout",
     "output_type": "stream",
     "text": [
      "Measurement: gini\n",
      "Depth: 1\n",
      "Average Accuracy: 0.7867428284476806\n",
      "Standard Deviation: 0.026923752473539498\n",
      "\n",
      "Measurement: gini\n",
      "Depth: 2\n",
      "Average Accuracy: 0.7732596823802649\n",
      "Standard Deviation: 0.02175865121177268\n",
      "\n",
      "Measurement: gini\n",
      "Depth: 3\n",
      "Average Accuracy: 0.8080534806352395\n",
      "Standard Deviation: 0.018157507166960015\n",
      "\n",
      "Measurement: gini\n",
      "Depth: 4\n",
      "Average Accuracy: 0.8001757579561861\n",
      "Standard Deviation: 0.029684749858098134\n",
      "\n",
      "Measurement: gini\n",
      "Depth: 5\n",
      "Average Accuracy: 0.8237273240851171\n",
      "Standard Deviation: 0.0375734129157371\n",
      "\n",
      "Measurement: gini\n",
      "Depth: 6\n",
      "Average Accuracy: 0.8327223651999247\n",
      "Standard Deviation: 0.03204999831629725\n",
      "\n",
      "Measurement: gini\n",
      "Depth: 7\n",
      "Average Accuracy: 0.8214864101437449\n",
      "Standard Deviation: 0.035283495133146166\n",
      "\n",
      "Measurement: gini\n",
      "Depth: 8\n",
      "Average Accuracy: 0.819270604481828\n",
      "Standard Deviation: 0.01711168389757386\n",
      "\n",
      "Measurement: gini\n",
      "Depth: 9\n",
      "Average Accuracy: 0.8102692862971566\n",
      "Standard Deviation: 0.02856604358119529\n",
      "\n",
      "Measurement: gini\n",
      "Depth: 10\n",
      "Average Accuracy: 0.8192517732722365\n",
      "Standard Deviation: 0.027638309985617514\n",
      "\n",
      "Measurement: entropy\n",
      "Depth: 1\n",
      "Average Accuracy: 0.7867428284476806\n",
      "Standard Deviation: 0.026923752473539498\n",
      "\n",
      "Measurement: entropy\n",
      "Depth: 2\n",
      "Average Accuracy: 0.7732596823802649\n",
      "Standard Deviation: 0.02175865121177268\n",
      "\n",
      "Measurement: entropy\n",
      "Depth: 3\n",
      "Average Accuracy: 0.8069298851296216\n",
      "Standard Deviation: 0.017168842933657193\n",
      "\n",
      "Measurement: entropy\n",
      "Depth: 4\n",
      "Average Accuracy: 0.7990521624505681\n",
      "Standard Deviation: 0.02986099580923434\n",
      "\n",
      "Measurement: entropy\n",
      "Depth: 5\n",
      "Average Accuracy: 0.8226162827192265\n",
      "Standard Deviation: 0.03384086718788365\n",
      "\n",
      "Measurement: entropy\n",
      "Depth: 6\n",
      "Average Accuracy: 0.8181281777666186\n",
      "Standard Deviation: 0.02967088924523518\n",
      "\n",
      "Measurement: entropy\n",
      "Depth: 7\n",
      "Average Accuracy: 0.8237524323645722\n",
      "Standard Deviation: 0.02598924186050562\n",
      "\n",
      "Measurement: entropy\n",
      "Depth: 8\n",
      "Average Accuracy: 0.8204004770573097\n",
      "Standard Deviation: 0.01574457052031196\n",
      "\n",
      "Measurement: entropy\n",
      "Depth: 9\n",
      "Average Accuracy: 0.8214989642834725\n",
      "Standard Deviation: 0.023421779083166578\n",
      "\n",
      "Measurement: entropy\n",
      "Depth: 10\n",
      "Average Accuracy: 0.8259682380264893\n",
      "Standard Deviation: 0.03485574432248832\n",
      "\n"
     ]
    }
   ],
   "source": [
    "def CV(measure, depth):\n",
    "    results = []\n",
    "    for index in range(NUM_SETS):\n",
    "        dTree = tree.DecisionTreeClassifier(criterion=measure,max_depth=depth)\n",
    "        dTree.fit(TrainingSets[index][0], TrainingSets[index][1])\n",
    "        results.append(accuracy(TestSets[index][0], dTree, TestSets[index][1].to_numpy()))\n",
    "    return results\n",
    "    \n",
    "\n",
    "for m in [\"gini\", \"entropy\"]:\n",
    "    for d in [1,2,3,4,5,6,7,8,9,10]:\n",
    "        print(\"Measurement: \" + m)\n",
    "        print(\"Depth: \" + str(d))\n",
    "        result = CV(m,d)\n",
    "        print(\"Average Accuracy: \" + str(sum(result)/NUM_SETS))\n",
    "        print(\"Standard Deviation: \" + str(np.std(result)))\n",
    "        print()"
   ]
  },
  {
   "cell_type": "markdown",
   "metadata": {},
   "source": [
    "# Creating Tree Model"
   ]
  },
  {
   "cell_type": "code",
   "execution_count": 6,
   "metadata": {},
   "outputs": [
    {
     "data": {
      "text/plain": [
       "DecisionTreeClassifier(class_weight=None, criterion='entropy', max_depth=8,\n",
       "                       max_features=None, max_leaf_nodes=None,\n",
       "                       min_impurity_decrease=0.0, min_impurity_split=None,\n",
       "                       min_samples_leaf=1, min_samples_split=2,\n",
       "                       min_weight_fraction_leaf=0.0, presort=False,\n",
       "                       random_state=None, splitter='best')"
      ]
     },
     "execution_count": 6,
     "metadata": {},
     "output_type": "execute_result"
    }
   ],
   "source": [
    "Tree = tree.DecisionTreeClassifier(criterion=\"entropy\",max_depth=8)\n",
    "Tree.fit(trainingData ,results)"
   ]
  },
  {
   "cell_type": "markdown",
   "metadata": {},
   "source": [
    "# Importing Test Data"
   ]
  },
  {
   "cell_type": "code",
   "execution_count": 7,
   "metadata": {},
   "outputs": [
    {
     "data": {
      "text/plain": [
       "array([[2., 1., 0., ..., 6., 1., 1.],\n",
       "       [2., 0., 1., ..., 0., 1., 2.],\n",
       "       [1., 1., 0., ..., 4., 1., 1.],\n",
       "       ...,\n",
       "       [2., 1., 0., ..., 0., 1., 1.],\n",
       "       [2., 1., 0., ..., 0., 1., 1.],\n",
       "       [2., 1., 1., ..., 1., 1., 3.]])"
      ]
     },
     "execution_count": 7,
     "metadata": {},
     "output_type": "execute_result"
    }
   ],
   "source": [
    "trainingData = pd.read_csv(\"../Data/test.csv\")\n",
    "trainingData[\"Cabin\"] = trainingData[\"Cabin\"].apply(str)\n",
    "trainingData[\"Embarked\"] = trainingData[\"Embarked\"].apply(str)\n",
    "\n",
    "trainingData[\"AgeGroup\"] = pd.cut(trainingData['Age'], bins=AgeBins).cat.add_categories(pd.Interval(-2,-1)).fillna(pd.Interval(-2,-1))\n",
    "trainingData['TicketGroup'] = pd.cut(pd.to_numeric(trainingData['Ticket'], errors=\"coerce\"), bins=TicketBins).cat.add_categories(pd.Interval(-2,-1)).fillna(pd.Interval(-2,-1))\n",
    "trainingData['CostGroup'] = pd.cut(trainingData['Fare'], bins=CostBins).cat.add_categories(pd.Interval(-2,-1)).fillna(pd.Interval(-2,-1))\n",
    "\n",
    "trainingData[\"Title\"] = trainingData.apply(lambda row: nameClass(row), axis=1)\n",
    "trainingData.drop([\"Name\", \"Age\", \"Ticket\", \"Fare\"], axis=1,inplace=True)\n",
    "\n",
    "features = [\"Pclass\", \"Sex\", \"SibSp\", \"Parch\", \"Cabin\", \"Embarked\", \"AgeGroup\", \"TicketGroup\", \"CostGroup\", \"Title\"]\n",
    "encoder = OrdinalEncoder()\n",
    "encoder.fit(trainingData[features])\n",
    "trainingData = encoder.transform(trainingData[features])"
   ]
  },
  {
   "cell_type": "markdown",
   "metadata": {},
   "source": [
    "# Predicting and Recording Data Points"
   ]
  },
  {
   "cell_type": "code",
   "execution_count": 13,
   "metadata": {},
   "outputs": [],
   "source": [
    "with open('ScikitLearn_DecisionTree.csv', mode='w', newline='') as treedone:\n",
    "    treedone = csv.writer(treedone)\n",
    "    treedone.writerow(['PassengerId', 'Survived'])\n",
    "    results = Tree.predict(trainingData)\n",
    "    \n",
    "    for index in range(418):\n",
    "        label = results[index]\n",
    "        if label == 0:\n",
    "            treedone.writerow([index+892, 0])\n",
    "        else:\n",
    "            treedone.writerow([index+892, 1])"
   ]
  },
  {
   "cell_type": "code",
   "execution_count": null,
   "metadata": {},
   "outputs": [],
   "source": []
  }
 ],
 "metadata": {
  "kernelspec": {
   "display_name": "Python 3",
   "language": "python",
   "name": "python3"
  },
  "language_info": {
   "codemirror_mode": {
    "name": "ipython",
    "version": 3
   },
   "file_extension": ".py",
   "mimetype": "text/x-python",
   "name": "python",
   "nbconvert_exporter": "python",
   "pygments_lexer": "ipython3",
   "version": "3.7.4"
  }
 },
 "nbformat": 4,
 "nbformat_minor": 2
}
