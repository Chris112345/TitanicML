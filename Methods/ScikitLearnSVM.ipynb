{
 "cells": [
  {
   "cell_type": "markdown",
   "metadata": {},
   "source": [
    "# Imported Libraries"
   ]
  },
  {
   "cell_type": "code",
   "execution_count": 7,
   "metadata": {},
   "outputs": [],
   "source": [
    "from sklearn.preprocessing import OrdinalEncoder\n",
    "from sklearn import svm\n",
    "import pandas as pd\n",
    "import numpy as np\n",
    "import re\n",
    "import csv"
   ]
  },
  {
   "cell_type": "markdown",
   "metadata": {},
   "source": [
    "# Fetching Training Data"
   ]
  },
  {
   "cell_type": "code",
   "execution_count": 3,
   "metadata": {},
   "outputs": [],
   "source": [
    "trainingData = pd.read_csv(\"../Data/train.csv\")\n",
    "trainingData[\"Cabin\"] = trainingData[\"Cabin\"].apply(str)\n",
    "trainingData[\"Embarked\"] = trainingData[\"Embarked\"].apply(str)\n",
    "\n",
    "trainingData[\"Age\"] = (trainingData['Age']).fillna(-10)\n",
    "trainingData['Ticket'] = pd.to_numeric(trainingData['Ticket'], errors=\"coerce\").fillna(-10)\n",
    "trainingData['Fare'] = trainingData['Fare'].fillna(-10)\n",
    "\n",
    "def nameClass(row):\n",
    "    if (re.search(\"Mr\\.\",row[\"Name\"])):\n",
    "        return(\"Mr.\")\n",
    "    elif (re.search(\"Mrs\\.\",row[\"Name\"])):\n",
    "        return(\"Mrs.\")\n",
    "    elif (re.search(\"Miss\\.\",row[\"Name\"])):\n",
    "        return(\"Miss.\")\n",
    "    else:\n",
    "        return(\"No Title\")\n",
    "        \n",
    "trainingData[\"Title\"] = trainingData.apply(lambda row: nameClass(row), axis=1)\n",
    "trainingData.drop([\"Name\"], axis=1,inplace=True)\n",
    "\n",
    "features = [\"Pclass\", \"Sex\", \"SibSp\", \"Parch\", \"Cabin\", \"Embarked\", \"Age\", \"Ticket\", \"Fare\", \"Title\"]\n",
    "results = trainingData[\"Survived\"]\n",
    "encoder = OrdinalEncoder()\n",
    "encoder.fit(trainingData[features])\n",
    "trainingData = encoder.transform(trainingData[features])\n",
    "results = results.to_numpy()\n",
    "results = np.where(results==0, -1, results)"
   ]
  },
  {
   "cell_type": "markdown",
   "metadata": {},
   "source": [
    "# CV-Sets"
   ]
  },
  {
   "cell_type": "code",
   "execution_count": 4,
   "metadata": {},
   "outputs": [],
   "source": [
    "TrainingSets = []\n",
    "TestSets = []\n",
    "NUM_SETS = 5\n",
    "\n",
    "for index in range(NUM_SETS):\n",
    "    temp = []\n",
    "    start = (NUM_SETS-index-1)*len(trainingData)//NUM_SETS\n",
    "    end = (NUM_SETS-index)*len(trainingData)//NUM_SETS\n",
    "    temp.append(np.append(trainingData[0:start],trainingData[end:], axis=0))\n",
    "    temp.append(np.append(results[0:start],results[end:], axis=0))\n",
    "    TrainingSets.append(temp)\n",
    "    temp = []\n",
    "    temp.append(trainingData[start:end])\n",
    "    temp.append(results[start:end])\n",
    "    TestSets.append(temp)"
   ]
  },
  {
   "cell_type": "markdown",
   "metadata": {},
   "source": [
    "# Hyper-parameters"
   ]
  },
  {
   "cell_type": "code",
   "execution_count": 12,
   "metadata": {},
   "outputs": [],
   "source": [
    "regularization = [0.5, 1.0, 2.0, 4.0, 8.0, 16.0, 32.0]\n",
    "kernels = [\"linear\", \"poly\", \"rbf\", \"sigmoid\", \"precomputed\"]"
   ]
  },
  {
   "cell_type": "markdown",
   "metadata": {},
   "source": [
    "# CV-Testing"
   ]
  },
  {
   "cell_type": "code",
   "execution_count": null,
   "metadata": {},
   "outputs": [
    {
     "name": "stderr",
     "output_type": "stream",
     "text": [
      "c:\\users\\csadn\\appdata\\local\\programs\\python\\python37-32\\lib\\site-packages\\sklearn\\svm\\base.py:193: FutureWarning: The default value of gamma will change from 'auto' to 'scale' in version 0.22 to account better for unscaled features. Set gamma explicitly to 'auto' or 'scale' to avoid this warning.\n",
      "  \"avoid this warning.\", FutureWarning)\n"
     ]
    }
   ],
   "source": [
    "results = {}\n",
    "\n",
    "for R in regularization:\n",
    "    for K in kernels:   \n",
    "        scores = []\n",
    "        for index in range(NUM_SETS):\n",
    "            classifier = svm.SVC(C = R, kernel = K)\n",
    "            classifier.fit(TrainingSets[index][0], TrainingSets[index][1])\n",
    "            scores.append(classifier.score(TestSets[index][0], TestSets[index][1]))\n",
    "        params = (R,K)\n",
    "        results[params] = scores\n",
    "        \n",
    "results"
   ]
  },
  {
   "cell_type": "code",
   "execution_count": 11,
   "metadata": {},
   "outputs": [
    {
     "data": {
      "text/plain": [
       "array([-1, -1, -1, -1,  1,  1, -1, -1,  1, -1, -1, -1, -1, -1,  1,  1, -1,\n",
       "        1,  1, -1, -1, -1, -1, -1,  1, -1, -1, -1, -1, -1,  1, -1, -1, -1,\n",
       "       -1,  1, -1, -1,  1, -1, -1, -1,  1, -1, -1, -1, -1,  1, -1, -1, -1,\n",
       "        1, -1,  1, -1,  1, -1, -1, -1, -1,  1, -1,  1, -1, -1,  1, -1,  1,\n",
       "        1,  1, -1, -1, -1, -1,  1, -1, -1, -1, -1, -1,  1, -1, -1, -1,  1,\n",
       "        1, -1,  1, -1,  1, -1, -1, -1, -1, -1,  1, -1,  1, -1, -1, -1,  1,\n",
       "       -1, -1,  1, -1, -1, -1,  1, -1, -1,  1, -1, -1, -1, -1, -1,  1,  1,\n",
       "       -1, -1, -1, -1,  1, -1, -1, -1, -1, -1, -1,  1, -1, -1, -1, -1, -1,\n",
       "       -1,  1, -1, -1,  1,  1,  1,  1,  1, -1,  1, -1, -1, -1,  1,  1, -1,\n",
       "        1,  1, -1, -1, -1, -1,  1, -1, -1,  1,  1, -1, -1, -1,  1,  1, -1,\n",
       "        1, -1, -1,  1, -1,  1,  1, -1, -1], dtype=int64)"
      ]
     },
     "execution_count": 11,
     "metadata": {},
     "output_type": "execute_result"
    }
   ],
   "source": [
    "clf = svm.SVC(C = 1.0, kernel = \"linear\")\n",
    "clf.fit(TrainingSets[0][0], TrainingSets[0][1])\n",
    "clf.predict(TestSets[0][0])"
   ]
  },
  {
   "cell_type": "code",
   "execution_count": null,
   "metadata": {},
   "outputs": [],
   "source": []
  }
 ],
 "metadata": {
  "kernelspec": {
   "display_name": "Python 3",
   "language": "python",
   "name": "python3"
  },
  "language_info": {
   "codemirror_mode": {
    "name": "ipython",
    "version": 3
   },
   "file_extension": ".py",
   "mimetype": "text/x-python",
   "name": "python",
   "nbconvert_exporter": "python",
   "pygments_lexer": "ipython3",
   "version": "3.7.4"
  }
 },
 "nbformat": 4,
 "nbformat_minor": 2
}
