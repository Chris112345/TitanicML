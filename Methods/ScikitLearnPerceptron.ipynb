{
 "cells": [
  {
   "cell_type": "markdown",
   "metadata": {},
   "source": [
    "# Importing Libraries"
   ]
  },
  {
   "cell_type": "code",
   "execution_count": 1,
   "metadata": {},
   "outputs": [],
   "source": [
    "from sklearn import tree\n",
    "from sklearn.preprocessing import OrdinalEncoder\n",
    "from sklearn.linear_model import Perceptron\n",
    "import pandas as pd\n",
    "import numpy as np\n",
    "import re\n",
    "import csv"
   ]
  },
  {
   "cell_type": "markdown",
   "metadata": {},
   "source": [
    "# Modifying Data Input"
   ]
  },
  {
   "cell_type": "code",
   "execution_count": 2,
   "metadata": {},
   "outputs": [],
   "source": [
    "trainingData = pd.read_csv(\"../Data/train.csv\")\n",
    "trainingData[\"Cabin\"] = trainingData[\"Cabin\"].apply(str)\n",
    "trainingData[\"Embarked\"] = trainingData[\"Embarked\"].apply(str)\n",
    "\n",
    "AgeBins = pd.IntervalIndex.from_tuples([(0,15),(15,30),(30,45),(45,60),(60,75),(75,90),(90,105),(105,120)])\n",
    "TicketBins = pd.IntervalIndex.from_tuples([(0,50000), (50000,100000), (100000,150000),(150000,200000),(200000, 250000), (250000, 300000), (300000, 350000)])\n",
    "CostBins = pd.IntervalIndex.from_tuples([(-1, 50),(50,100), (100,150), (150, 200), (200, 250), (250, 300), (300,350), (350,400), (400, 450), (450, 500), (500, 550)])\n",
    "\n",
    "trainingData[\"AgeGroup\"] = pd.cut(trainingData['Age'], bins=AgeBins).cat.add_categories(pd.Interval(-2,-1)).fillna(pd.Interval(-2,-1))\n",
    "trainingData['TicketGroup'] = pd.cut(pd.to_numeric(trainingData['Ticket'], errors=\"coerce\"), bins=TicketBins).cat.add_categories(pd.Interval(-2,-1)).fillna(pd.Interval(-2,-1))\n",
    "trainingData['CostGroup'] = pd.cut(trainingData['Fare'], bins=CostBins).cat.add_categories(pd.Interval(-2,-1)).fillna(pd.Interval(-2,-1))\n",
    "\n",
    "def nameClass(row):\n",
    "    if (re.search(\"Mr\\.\",row[\"Name\"])):\n",
    "        return(\"Mr.\")\n",
    "    elif (re.search(\"Mrs\\.\",row[\"Name\"])):\n",
    "        return(\"Mrs.\")\n",
    "    elif (re.search(\"Miss\\.\",row[\"Name\"])):\n",
    "        return(\"Miss.\")\n",
    "    else:\n",
    "        return(\"No Title\")\n",
    "        \n",
    "trainingData[\"Title\"] = trainingData.apply(lambda row: nameClass(row), axis=1)\n",
    "trainingData.drop([\"Name\", \"Age\", \"Ticket\", \"Fare\"], axis=1,inplace=True)\n",
    "\n",
    "features = [\"Pclass\", \"Sex\", \"SibSp\", \"Parch\", \"Cabin\", \"Embarked\", \"AgeGroup\", \"TicketGroup\", \"CostGroup\", \"Title\"]\n",
    "results = trainingData[\"Survived\"]\n",
    "encoder = OrdinalEncoder()\n",
    "encoder.fit(trainingData[features])\n",
    "trainingData = encoder.transform(trainingData[features])\n",
    "results = results.to_numpy()\n",
    "results = np.where(results==0, -1, results)"
   ]
  },
  {
   "cell_type": "markdown",
   "metadata": {},
   "source": [
    "# CV-Sets"
   ]
  },
  {
   "cell_type": "code",
   "execution_count": 3,
   "metadata": {},
   "outputs": [],
   "source": [
    "TrainingSets = []\n",
    "TestSets = []\n",
    "NUM_SETS = 5\n",
    "\n",
    "for index in range(NUM_SETS):\n",
    "    temp = []\n",
    "    start = (NUM_SETS-index-1)*len(trainingData)//NUM_SETS\n",
    "    end = (NUM_SETS-index)*len(trainingData)//NUM_SETS\n",
    "    temp.append(np.append(trainingData[0:start],trainingData[end:], axis=0))\n",
    "    temp.append(np.append(results[0:start],results[end:], axis=0))\n",
    "    TrainingSets.append(temp)\n",
    "    temp = []\n",
    "    temp.append(trainingData[start:end])\n",
    "    temp.append(results[start:end])\n",
    "    TestSets.append(temp)"
   ]
  },
  {
   "cell_type": "markdown",
   "metadata": {},
   "source": [
    "# Hyper Parameters"
   ]
  },
  {
   "cell_type": "code",
   "execution_count": 4,
   "metadata": {},
   "outputs": [
    {
     "data": {
      "text/plain": [
       "0.7374301675977654"
      ]
     },
     "execution_count": 4,
     "metadata": {},
     "output_type": "execute_result"
    }
   ],
   "source": [
    "penalties = [None,\"l2\",\"l1\",\"elasticnet\"]\n",
    "\n",
    "classifier = Perceptron()\n",
    "classifier.fit(TrainingSets[0][0], TrainingSets[0][1])\n",
    "classifier.score(TestSets[0][0], TestSets[0][1])"
   ]
  },
  {
   "cell_type": "markdown",
   "metadata": {},
   "source": [
    "# CV Testing"
   ]
  },
  {
   "cell_type": "code",
   "execution_count": 6,
   "metadata": {},
   "outputs": [],
   "source": [
    "results = {}\n",
    "\n",
    "for p in penalties:\n",
    "    scores = []\n",
    "    for index in range(NUM_SETS):\n",
    "        classifier = Perceptron(penalty=p)\n",
    "        classifier.fit(TrainingSets[index][0], TrainingSets[index][1])\n",
    "        scores.append(classifier.score(TestSets[index][0], TestSets[index][1]))\n",
    "    results[p] = scores"
   ]
  },
  {
   "cell_type": "markdown",
   "metadata": {},
   "source": [
    "# CV Averages"
   ]
  },
  {
   "cell_type": "code",
   "execution_count": 13,
   "metadata": {},
   "outputs": [
    {
     "name": "stdout",
     "output_type": "stream",
     "text": [
      "Penalty: \n",
      "None\n",
      "Average Accuracy: 0.6598455840813509\n",
      "\n",
      "Penalty: \n",
      "l2\n",
      "Average Accuracy: 0.6385537631033833\n",
      "\n",
      "Penalty: \n",
      "l1\n",
      "Average Accuracy: 0.5824430355909861\n",
      "\n",
      "Penalty: \n",
      "elasticnet\n",
      "Average Accuracy: 0.6385537631033833\n",
      "\n"
     ]
    }
   ],
   "source": [
    "for result in results.keys():\n",
    "    print(\"Penalty: \")\n",
    "    print(result)\n",
    "    print(\"Average Accuracy: \" + str(sum(results[result])/NUM_SETS))\n",
    "    print()"
   ]
  },
  {
   "cell_type": "code",
   "execution_count": null,
   "metadata": {},
   "outputs": [],
   "source": []
  }
 ],
 "metadata": {
  "kernelspec": {
   "display_name": "Python 3",
   "language": "python",
   "name": "python3"
  },
  "language_info": {
   "codemirror_mode": {
    "name": "ipython",
    "version": 3
   },
   "file_extension": ".py",
   "mimetype": "text/x-python",
   "name": "python",
   "nbconvert_exporter": "python",
   "pygments_lexer": "ipython3",
   "version": "3.7.4"
  }
 },
 "nbformat": 4,
 "nbformat_minor": 2
}
