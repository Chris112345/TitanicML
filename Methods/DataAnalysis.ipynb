{
 "cells": [
  {
   "cell_type": "markdown",
   "metadata": {},
   "source": [
    "# Data Analysis"
   ]
  },
  {
   "cell_type": "markdown",
   "metadata": {},
   "source": [
    "## Imported Libraries"
   ]
  },
  {
   "cell_type": "code",
   "execution_count": 1,
   "metadata": {},
   "outputs": [],
   "source": [
    "import pandas as pd\n",
    "import numpy as np\n",
    "import matplotlib.pyplot as plt\n",
    "import re"
   ]
  },
  {
   "cell_type": "markdown",
   "metadata": {},
   "source": [
    "## Downloading the Data"
   ]
  },
  {
   "cell_type": "code",
   "execution_count": 2,
   "metadata": {},
   "outputs": [
    {
     "data": {
      "text/html": [
       "<div>\n",
       "<style scoped>\n",
       "    .dataframe tbody tr th:only-of-type {\n",
       "        vertical-align: middle;\n",
       "    }\n",
       "\n",
       "    .dataframe tbody tr th {\n",
       "        vertical-align: top;\n",
       "    }\n",
       "\n",
       "    .dataframe thead th {\n",
       "        text-align: right;\n",
       "    }\n",
       "</style>\n",
       "<table border=\"1\" class=\"dataframe\">\n",
       "  <thead>\n",
       "    <tr style=\"text-align: right;\">\n",
       "      <th></th>\n",
       "      <th>PassengerId</th>\n",
       "      <th>Survived</th>\n",
       "      <th>Pclass</th>\n",
       "      <th>Name</th>\n",
       "      <th>Sex</th>\n",
       "      <th>Age</th>\n",
       "      <th>SibSp</th>\n",
       "      <th>Parch</th>\n",
       "      <th>Ticket</th>\n",
       "      <th>Fare</th>\n",
       "      <th>Cabin</th>\n",
       "      <th>Embarked</th>\n",
       "      <th>AgeGroup</th>\n",
       "      <th>TicketGroup</th>\n",
       "      <th>CostGroup</th>\n",
       "    </tr>\n",
       "  </thead>\n",
       "  <tbody>\n",
       "    <tr>\n",
       "      <td>0</td>\n",
       "      <td>1</td>\n",
       "      <td>0</td>\n",
       "      <td>3</td>\n",
       "      <td>Braund, Mr. Owen Harris</td>\n",
       "      <td>male</td>\n",
       "      <td>22.0</td>\n",
       "      <td>1</td>\n",
       "      <td>0</td>\n",
       "      <td>A/5 21171</td>\n",
       "      <td>7.2500</td>\n",
       "      <td>nan</td>\n",
       "      <td>S</td>\n",
       "      <td>(15, 30]</td>\n",
       "      <td>(-2, -1]</td>\n",
       "      <td>(-1, 50]</td>\n",
       "    </tr>\n",
       "    <tr>\n",
       "      <td>1</td>\n",
       "      <td>2</td>\n",
       "      <td>1</td>\n",
       "      <td>1</td>\n",
       "      <td>Cumings, Mrs. John Bradley (Florence Briggs Th...</td>\n",
       "      <td>female</td>\n",
       "      <td>38.0</td>\n",
       "      <td>1</td>\n",
       "      <td>0</td>\n",
       "      <td>PC 17599</td>\n",
       "      <td>71.2833</td>\n",
       "      <td>C85</td>\n",
       "      <td>C</td>\n",
       "      <td>(30, 45]</td>\n",
       "      <td>(-2, -1]</td>\n",
       "      <td>(50, 100]</td>\n",
       "    </tr>\n",
       "    <tr>\n",
       "      <td>2</td>\n",
       "      <td>3</td>\n",
       "      <td>1</td>\n",
       "      <td>3</td>\n",
       "      <td>Heikkinen, Miss. Laina</td>\n",
       "      <td>female</td>\n",
       "      <td>26.0</td>\n",
       "      <td>0</td>\n",
       "      <td>0</td>\n",
       "      <td>STON/O2. 3101282</td>\n",
       "      <td>7.9250</td>\n",
       "      <td>nan</td>\n",
       "      <td>S</td>\n",
       "      <td>(15, 30]</td>\n",
       "      <td>(-2, -1]</td>\n",
       "      <td>(-1, 50]</td>\n",
       "    </tr>\n",
       "    <tr>\n",
       "      <td>3</td>\n",
       "      <td>4</td>\n",
       "      <td>1</td>\n",
       "      <td>1</td>\n",
       "      <td>Futrelle, Mrs. Jacques Heath (Lily May Peel)</td>\n",
       "      <td>female</td>\n",
       "      <td>35.0</td>\n",
       "      <td>1</td>\n",
       "      <td>0</td>\n",
       "      <td>113803</td>\n",
       "      <td>53.1000</td>\n",
       "      <td>C123</td>\n",
       "      <td>S</td>\n",
       "      <td>(30, 45]</td>\n",
       "      <td>(100000, 150000]</td>\n",
       "      <td>(50, 100]</td>\n",
       "    </tr>\n",
       "    <tr>\n",
       "      <td>4</td>\n",
       "      <td>5</td>\n",
       "      <td>0</td>\n",
       "      <td>3</td>\n",
       "      <td>Allen, Mr. William Henry</td>\n",
       "      <td>male</td>\n",
       "      <td>35.0</td>\n",
       "      <td>0</td>\n",
       "      <td>0</td>\n",
       "      <td>373450</td>\n",
       "      <td>8.0500</td>\n",
       "      <td>nan</td>\n",
       "      <td>S</td>\n",
       "      <td>(30, 45]</td>\n",
       "      <td>(-2, -1]</td>\n",
       "      <td>(-1, 50]</td>\n",
       "    </tr>\n",
       "    <tr>\n",
       "      <td>...</td>\n",
       "      <td>...</td>\n",
       "      <td>...</td>\n",
       "      <td>...</td>\n",
       "      <td>...</td>\n",
       "      <td>...</td>\n",
       "      <td>...</td>\n",
       "      <td>...</td>\n",
       "      <td>...</td>\n",
       "      <td>...</td>\n",
       "      <td>...</td>\n",
       "      <td>...</td>\n",
       "      <td>...</td>\n",
       "      <td>...</td>\n",
       "      <td>...</td>\n",
       "      <td>...</td>\n",
       "    </tr>\n",
       "    <tr>\n",
       "      <td>886</td>\n",
       "      <td>887</td>\n",
       "      <td>0</td>\n",
       "      <td>2</td>\n",
       "      <td>Montvila, Rev. Juozas</td>\n",
       "      <td>male</td>\n",
       "      <td>27.0</td>\n",
       "      <td>0</td>\n",
       "      <td>0</td>\n",
       "      <td>211536</td>\n",
       "      <td>13.0000</td>\n",
       "      <td>nan</td>\n",
       "      <td>S</td>\n",
       "      <td>(15, 30]</td>\n",
       "      <td>(200000, 250000]</td>\n",
       "      <td>(-1, 50]</td>\n",
       "    </tr>\n",
       "    <tr>\n",
       "      <td>887</td>\n",
       "      <td>888</td>\n",
       "      <td>1</td>\n",
       "      <td>1</td>\n",
       "      <td>Graham, Miss. Margaret Edith</td>\n",
       "      <td>female</td>\n",
       "      <td>19.0</td>\n",
       "      <td>0</td>\n",
       "      <td>0</td>\n",
       "      <td>112053</td>\n",
       "      <td>30.0000</td>\n",
       "      <td>B42</td>\n",
       "      <td>S</td>\n",
       "      <td>(15, 30]</td>\n",
       "      <td>(100000, 150000]</td>\n",
       "      <td>(-1, 50]</td>\n",
       "    </tr>\n",
       "    <tr>\n",
       "      <td>888</td>\n",
       "      <td>889</td>\n",
       "      <td>0</td>\n",
       "      <td>3</td>\n",
       "      <td>Johnston, Miss. Catherine Helen \"Carrie\"</td>\n",
       "      <td>female</td>\n",
       "      <td>NaN</td>\n",
       "      <td>1</td>\n",
       "      <td>2</td>\n",
       "      <td>W./C. 6607</td>\n",
       "      <td>23.4500</td>\n",
       "      <td>nan</td>\n",
       "      <td>S</td>\n",
       "      <td>(-2, -1]</td>\n",
       "      <td>(-2, -1]</td>\n",
       "      <td>(-1, 50]</td>\n",
       "    </tr>\n",
       "    <tr>\n",
       "      <td>889</td>\n",
       "      <td>890</td>\n",
       "      <td>1</td>\n",
       "      <td>1</td>\n",
       "      <td>Behr, Mr. Karl Howell</td>\n",
       "      <td>male</td>\n",
       "      <td>26.0</td>\n",
       "      <td>0</td>\n",
       "      <td>0</td>\n",
       "      <td>111369</td>\n",
       "      <td>30.0000</td>\n",
       "      <td>C148</td>\n",
       "      <td>C</td>\n",
       "      <td>(15, 30]</td>\n",
       "      <td>(100000, 150000]</td>\n",
       "      <td>(-1, 50]</td>\n",
       "    </tr>\n",
       "    <tr>\n",
       "      <td>890</td>\n",
       "      <td>891</td>\n",
       "      <td>0</td>\n",
       "      <td>3</td>\n",
       "      <td>Dooley, Mr. Patrick</td>\n",
       "      <td>male</td>\n",
       "      <td>32.0</td>\n",
       "      <td>0</td>\n",
       "      <td>0</td>\n",
       "      <td>370376</td>\n",
       "      <td>7.7500</td>\n",
       "      <td>nan</td>\n",
       "      <td>Q</td>\n",
       "      <td>(30, 45]</td>\n",
       "      <td>(-2, -1]</td>\n",
       "      <td>(-1, 50]</td>\n",
       "    </tr>\n",
       "  </tbody>\n",
       "</table>\n",
       "<p>891 rows × 15 columns</p>\n",
       "</div>"
      ],
      "text/plain": [
       "     PassengerId  Survived  Pclass  \\\n",
       "0              1         0       3   \n",
       "1              2         1       1   \n",
       "2              3         1       3   \n",
       "3              4         1       1   \n",
       "4              5         0       3   \n",
       "..           ...       ...     ...   \n",
       "886          887         0       2   \n",
       "887          888         1       1   \n",
       "888          889         0       3   \n",
       "889          890         1       1   \n",
       "890          891         0       3   \n",
       "\n",
       "                                                  Name     Sex   Age  SibSp  \\\n",
       "0                              Braund, Mr. Owen Harris    male  22.0      1   \n",
       "1    Cumings, Mrs. John Bradley (Florence Briggs Th...  female  38.0      1   \n",
       "2                               Heikkinen, Miss. Laina  female  26.0      0   \n",
       "3         Futrelle, Mrs. Jacques Heath (Lily May Peel)  female  35.0      1   \n",
       "4                             Allen, Mr. William Henry    male  35.0      0   \n",
       "..                                                 ...     ...   ...    ...   \n",
       "886                              Montvila, Rev. Juozas    male  27.0      0   \n",
       "887                       Graham, Miss. Margaret Edith  female  19.0      0   \n",
       "888           Johnston, Miss. Catherine Helen \"Carrie\"  female   NaN      1   \n",
       "889                              Behr, Mr. Karl Howell    male  26.0      0   \n",
       "890                                Dooley, Mr. Patrick    male  32.0      0   \n",
       "\n",
       "     Parch            Ticket     Fare Cabin Embarked  AgeGroup  \\\n",
       "0        0         A/5 21171   7.2500   nan        S  (15, 30]   \n",
       "1        0          PC 17599  71.2833   C85        C  (30, 45]   \n",
       "2        0  STON/O2. 3101282   7.9250   nan        S  (15, 30]   \n",
       "3        0            113803  53.1000  C123        S  (30, 45]   \n",
       "4        0            373450   8.0500   nan        S  (30, 45]   \n",
       "..     ...               ...      ...   ...      ...       ...   \n",
       "886      0            211536  13.0000   nan        S  (15, 30]   \n",
       "887      0            112053  30.0000   B42        S  (15, 30]   \n",
       "888      2        W./C. 6607  23.4500   nan        S  (-2, -1]   \n",
       "889      0            111369  30.0000  C148        C  (15, 30]   \n",
       "890      0            370376   7.7500   nan        Q  (30, 45]   \n",
       "\n",
       "          TicketGroup  CostGroup  \n",
       "0            (-2, -1]   (-1, 50]  \n",
       "1            (-2, -1]  (50, 100]  \n",
       "2            (-2, -1]   (-1, 50]  \n",
       "3    (100000, 150000]  (50, 100]  \n",
       "4            (-2, -1]   (-1, 50]  \n",
       "..                ...        ...  \n",
       "886  (200000, 250000]   (-1, 50]  \n",
       "887  (100000, 150000]   (-1, 50]  \n",
       "888          (-2, -1]   (-1, 50]  \n",
       "889  (100000, 150000]   (-1, 50]  \n",
       "890          (-2, -1]   (-1, 50]  \n",
       "\n",
       "[891 rows x 15 columns]"
      ]
     },
     "execution_count": 2,
     "metadata": {},
     "output_type": "execute_result"
    }
   ],
   "source": [
    "trainingData = pd.read_csv(\"../Data/train.csv\")\n",
    "trainingData[\"Cabin\"] = trainingData[\"Cabin\"].apply(str)\n",
    "trainingData[\"Embarked\"] = trainingData[\"Embarked\"].apply(str)\n",
    "\n",
    "AgeBins = pd.IntervalIndex.from_tuples([(0,15),(15,30),(30,45),(45,60),(60,75),(75,90),(90,105),(105,120)])\n",
    "TicketBins = pd.IntervalIndex.from_tuples([(0,50000), (50000,100000), (100000,150000),(150000,200000),(200000, 250000), (250000, 300000), (300000, 350000)])\n",
    "CostBins = pd.IntervalIndex.from_tuples([(-1, 50),(50,100), (100,150), (150, 200), (200, 250), (250, 300), (300,350), (350,400), (400, 450), (450, 500), (500, 550)])\n",
    "\n",
    "trainingData[\"AgeGroup\"] = pd.cut(trainingData['Age'], bins=AgeBins).cat.add_categories(pd.Interval(-2,-1)).fillna(pd.Interval(-2,-1))\n",
    "trainingData['TicketGroup'] = pd.cut(pd.to_numeric(trainingData['Ticket'], errors=\"coerce\"), bins=TicketBins).cat.add_categories(pd.Interval(-2,-1)).fillna(pd.Interval(-2,-1))\n",
    "trainingData['CostGroup'] = pd.cut(trainingData['Fare'], bins=CostBins).cat.add_categories(pd.Interval(-2,-1)).fillna(pd.Interval(-2,-1))\n",
    "trainingData"
   ]
  },
  {
   "cell_type": "markdown",
   "metadata": {},
   "source": [
    "## Examining the Table Values"
   ]
  },
  {
   "cell_type": "markdown",
   "metadata": {},
   "source": [
    "### PClass Analysis"
   ]
  },
  {
   "cell_type": "code",
   "execution_count": 3,
   "metadata": {},
   "outputs": [
    {
     "data": {
      "text/plain": [
       "<matplotlib.axes._subplots.AxesSubplot at 0x1017c610>"
      ]
     },
     "execution_count": 3,
     "metadata": {},
     "output_type": "execute_result"
    },
    {
     "data": {
      "image/png": "[encoded data removed]",
      "text/plain": [
       "<Figure size 432x288 with 1 Axes>"
      ]
     },
     "metadata": {
      "needs_background": "light"
     },
     "output_type": "display_data"
    }
   ],
   "source": [
    "trainingData[\"Pclass\"].fillna(\"Empty\").value_counts().plot(kind = \"bar\")"
   ]
  },
  {
   "cell_type": "markdown",
   "metadata": {},
   "source": [
    "### Gender Analysis"
   ]
  },
  {
   "cell_type": "code",
   "execution_count": 4,
   "metadata": {},
   "outputs": [
    {
     "data": {
      "text/plain": [
       "<matplotlib.axes._subplots.AxesSubplot at 0x112233d0>"
      ]
     },
     "execution_count": 4,
     "metadata": {},
     "output_type": "execute_result"
    },
    {
     "data": {
      "image/png": "[encoded data removed]",
      "text/plain": [
       "<Figure size 432x288 with 1 Axes>"
      ]
     },
     "metadata": {
      "needs_background": "light"
     },
     "output_type": "display_data"
    }
   ],
   "source": [
    "trainingData[\"Sex\"].fillna(\"Empty\").value_counts().plot(kind = \"bar\")"
   ]
  },
  {
   "cell_type": "markdown",
   "metadata": {},
   "source": [
    "### Age Analysis"
   ]
  },
  {
   "cell_type": "code",
   "execution_count": 5,
   "metadata": {},
   "outputs": [
    {
     "data": {
      "text/plain": [
       "<matplotlib.axes._subplots.AxesSubplot at 0x11276b70>"
      ]
     },
     "execution_count": 5,
     "metadata": {},
     "output_type": "execute_result"
    },
    {
     "data": {
      "image/png": "[encoded data removed]",
      "text/plain": [
       "<Figure size 432x288 with 1 Axes>"
      ]
     },
     "metadata": {
      "needs_background": "light"
     },
     "output_type": "display_data"
    }
   ],
   "source": [
    "trainingData[\"Age\"].hist(bins=10)"
   ]
  },
  {
   "cell_type": "code",
   "execution_count": 6,
   "metadata": {},
   "outputs": [
    {
     "name": "stdout",
     "output_type": "stream",
     "text": [
      "Number of NaN values: 177\n",
      "Percent NaN: 0.24789915966386555\n"
     ]
    }
   ],
   "source": [
    "print(\"Number of NaN values: \" + str(trainingData[\"Age\"].isna().sum()))\n",
    "print(\"Percent NaN: \" + str(trainingData[\"Age\"].isna().sum()/trainingData[\"Age\"].count()))"
   ]
  },
  {
   "cell_type": "markdown",
   "metadata": {},
   "source": [
    "### Sibling Number Analysis"
   ]
  },
  {
   "cell_type": "code",
   "execution_count": 7,
   "metadata": {},
   "outputs": [
    {
     "data": {
      "text/plain": [
       "<matplotlib.axes._subplots.AxesSubplot at 0x112dab70>"
      ]
     },
     "execution_count": 7,
     "metadata": {},
     "output_type": "execute_result"
    },
    {
     "data": {
      "image/png": "[encoded data removed]",
      "text/plain": [
       "<Figure size 432x288 with 1 Axes>"
      ]
     },
     "metadata": {
      "needs_background": "light"
     },
     "output_type": "display_data"
    }
   ],
   "source": [
    "trainingData[\"SibSp\"].fillna(\"Empty\").value_counts().plot(kind = \"bar\")"
   ]
  },
  {
   "cell_type": "markdown",
   "metadata": {},
   "source": [
    "### Ticket Analysis"
   ]
  },
  {
   "cell_type": "code",
   "execution_count": 8,
   "metadata": {},
   "outputs": [
    {
     "data": {
      "text/plain": [
       "<matplotlib.axes._subplots.AxesSubplot at 0x112d0590>"
      ]
     },
     "execution_count": 8,
     "metadata": {},
     "output_type": "execute_result"
    },
    {
     "data": {
      "image/png": "[encoded data removed]",
      "text/plain": [
       "<Figure size 432x288 with 1 Axes>"
      ]
     },
     "metadata": {
      "needs_background": "light"
     },
     "output_type": "display_data"
    }
   ],
   "source": [
    "temp = pd.to_numeric(trainingData[\"Ticket\"], errors='coerce')\n",
    "temp.hist(bins = 50)"
   ]
  },
  {
   "cell_type": "code",
   "execution_count": 9,
   "metadata": {},
   "outputs": [
    {
     "name": "stdout",
     "output_type": "stream",
     "text": [
      "NaN values: 230\n",
      "Percent NaN: 0.34795763993948564\n"
     ]
    }
   ],
   "source": [
    "print(\"NaN values: \" + str(temp.isna().sum()))\n",
    "print(\"Percent NaN: \" + str(temp.isna().sum()/temp.count()))"
   ]
  },
  {
   "cell_type": "markdown",
   "metadata": {},
   "source": [
    "### Fare Analysis"
   ]
  },
  {
   "cell_type": "code",
   "execution_count": 10,
   "metadata": {},
   "outputs": [
    {
     "data": {
      "image/png": "[encoded data removed]",
      "text/plain": [
       "<Figure size 432x288 with 1 Axes>"
      ]
     },
     "metadata": {
      "needs_background": "light"
     },
     "output_type": "display_data"
    }
   ],
   "source": [
    "trainingData[\"Fare\"].hist(bins=50)\n",
    "temp = trainingData[\"Fare\"]"
   ]
  },
  {
   "cell_type": "code",
   "execution_count": 11,
   "metadata": {},
   "outputs": [
    {
     "name": "stdout",
     "output_type": "stream",
     "text": [
      "NaN values: 0\n",
      "Percent NaN: 0.0\n"
     ]
    }
   ],
   "source": [
    "print(\"NaN values: \" + str(temp.isna().sum()))\n",
    "print(\"Percent NaN: \" + str(temp.isna().sum()/temp.count()))"
   ]
  },
  {
   "cell_type": "markdown",
   "metadata": {},
   "source": [
    "### Cabin Analysis"
   ]
  },
  {
   "cell_type": "code",
   "execution_count": 12,
   "metadata": {},
   "outputs": [
    {
     "name": "stdout",
     "output_type": "stream",
     "text": [
      "NaN values: 687\n",
      "Percent NaN: 0.7710437710437711\n"
     ]
    }
   ],
   "source": [
    "temp = trainingData[trainingData[\"Cabin\"] == \"nan\"][\"Cabin\"].count()\n",
    "print(\"NaN values: \" + str(temp))\n",
    "print(\"Percent NaN: \" + str(temp/trainingData[\"Cabin\"].count()))"
   ]
  },
  {
   "cell_type": "code",
   "execution_count": 13,
   "metadata": {},
   "outputs": [
    {
     "name": "stdout",
     "output_type": "stream",
     "text": [
      "Recorded values: 204\n",
      "Percent Recorded: 0.22895622895622897\n"
     ]
    }
   ],
   "source": [
    "temp = trainingData[trainingData[\"Cabin\"] != \"nan\"][\"Cabin\"].count()\n",
    "print(\"Recorded values: \" + str(temp))\n",
    "print(\"Percent Recorded: \" + str(temp/trainingData[\"Cabin\"].count()))"
   ]
  },
  {
   "cell_type": "markdown",
   "metadata": {},
   "source": [
    "### Embarked Analysis"
   ]
  },
  {
   "cell_type": "code",
   "execution_count": 14,
   "metadata": {},
   "outputs": [
    {
     "data": {
      "text/plain": [
       "<matplotlib.axes._subplots.AxesSubplot at 0x124925d0>"
      ]
     },
     "execution_count": 14,
     "metadata": {},
     "output_type": "execute_result"
    },
    {
     "data": {
      "image/png": "[encoded data removed]",
      "text/plain": [
       "<Figure size 432x288 with 1 Axes>"
      ]
     },
     "metadata": {
      "needs_background": "light"
     },
     "output_type": "display_data"
    }
   ],
   "source": [
    "temp = trainingData[\"Embarked\"]\n",
    "temp.fillna(\"Empty\").value_counts().plot(kind = \"bar\")"
   ]
  },
  {
   "cell_type": "code",
   "execution_count": 15,
   "metadata": {},
   "outputs": [
    {
     "name": "stdout",
     "output_type": "stream",
     "text": [
      "NaN values: 2\n",
      "Percent NaN: 0.002244668911335578\n"
     ]
    }
   ],
   "source": [
    "temp = trainingData[trainingData[\"Embarked\"] == \"nan\"][\"Embarked\"].count()\n",
    "print(\"NaN values: \" + str(temp))\n",
    "print(\"Percent NaN: \" + str(temp/trainingData[\"Embarked\"].count()))"
   ]
  },
  {
   "cell_type": "markdown",
   "metadata": {},
   "source": [
    "## Data Purity"
   ]
  },
  {
   "cell_type": "markdown",
   "metadata": {},
   "source": [
    "### Gender Entropy"
   ]
  },
  {
   "cell_type": "code",
   "execution_count": 16,
   "metadata": {},
   "outputs": [
    {
     "data": {
      "image/png": "[encoded data removed]",
      "text/plain": [
       "<Figure size 432x288 with 1 Axes>"
      ]
     },
     "metadata": {
      "needs_background": "light"
     },
     "output_type": "display_data"
    }
   ],
   "source": [
    "survived = trainingData[trainingData[\"Survived\"] == 1]\n",
    "perished = trainingData[trainingData[\"Survived\"] == 0]\n",
    "\n",
    "survivedM = survived[survived[\"Sex\"] == \"male\"]\n",
    "survivedF = survived[survived[\"Sex\"] == \"female\"]\n",
    "perishedM = perished[perished[\"Sex\"] == \"male\"]\n",
    "perishedF = perished[perished[\"Sex\"] == \"female\"]\n",
    "\n",
    "plot = plt.subplot(111)\n",
    "index= np.arange(2)\n",
    "plot.bar(index-0.15, [len(survivedM.index), len(survivedF.index)], width=0.3, color=\"g\", align=\"center\")\n",
    "plot.bar(index+0.15, [len(perishedM.index), len(perishedF.index)], width=0.3, color=\"r\", align=\"center\")\n",
    "plot.set_xticks(index)\n",
    "plot.set_xticklabels((\"male\", \"female\"))\n",
    "plt.show()"
   ]
  },
  {
   "cell_type": "markdown",
   "metadata": {},
   "source": [
    "### PClass Entropy"
   ]
  },
  {
   "cell_type": "code",
   "execution_count": 17,
   "metadata": {},
   "outputs": [
    {
     "data": {
      "image/png": "[encoded data removed]",
      "text/plain": [
       "<Figure size 432x288 with 1 Axes>"
      ]
     },
     "metadata": {
      "needs_background": "light"
     },
     "output_type": "display_data"
    }
   ],
   "source": [
    "survived = trainingData[trainingData[\"Survived\"] == 1]\n",
    "perished = trainingData[trainingData[\"Survived\"] == 0]\n",
    "\n",
    "label = np.unique(survived[\"Pclass\"], return_counts=False)\n",
    "\n",
    "survivedV, survivedC = np.unique(survived[\"Pclass\"],return_counts=True)\n",
    "perishedV, perishedC = np.unique(perished[\"Pclass\"],return_counts=True)\n",
    "\n",
    "plot = plt.subplot()\n",
    "index= np.arange(len(label))\n",
    "plot.bar(index-0.15, survivedC, width=0.3, color=\"g\", align=\"center\")\n",
    "plot.bar(index+0.15, perishedC, width=0.3, color=\"r\", align=\"center\")\n",
    "plot.set_xticks(index)\n",
    "plot.set_xticklabels(label)\n",
    "plt.show()"
   ]
  },
  {
   "cell_type": "markdown",
   "metadata": {},
   "source": [
    "### SibSp Entropy"
   ]
  },
  {
   "cell_type": "code",
   "execution_count": 18,
   "metadata": {},
   "outputs": [
    {
     "data": {
      "image/png": "[encoded data removed]",
      "text/plain": [
       "<Figure size 432x288 with 1 Axes>"
      ]
     },
     "metadata": {
      "needs_background": "light"
     },
     "output_type": "display_data"
    }
   ],
   "source": [
    "label = np.unique(trainingData[\"SibSp\"], return_counts=False)\n",
    "\n",
    "survivedV, survivedC = np.unique(survived[\"SibSp\"],return_counts=True)\n",
    "survivedV = np.append(survivedV,[5,8])\n",
    "survivedC = np.append(survivedC,[0,0])\n",
    "perishedV, perishedC = np.unique(perished[\"SibSp\"],return_counts=True)\n",
    "\n",
    "\n",
    "plot = plt.subplot()\n",
    "index= np.arange(len(label))\n",
    "plot.bar(index-0.15, survivedC, width=0.3, color=\"g\", align=\"center\")\n",
    "plot.bar(index+0.15, perishedC, width=0.3, color=\"r\", align=\"center\")\n",
    "plot.set_xticks(index)\n",
    "plot.set_xticklabels(label)\n",
    "plt.show()"
   ]
  },
  {
   "cell_type": "markdown",
   "metadata": {},
   "source": [
    "### Parch Entropy"
   ]
  },
  {
   "cell_type": "code",
   "execution_count": 19,
   "metadata": {},
   "outputs": [
    {
     "data": {
      "image/png": "[encoded data removed]",
      "text/plain": [
       "<Figure size 432x288 with 1 Axes>"
      ]
     },
     "metadata": {
      "needs_background": "light"
     },
     "output_type": "display_data"
    }
   ],
   "source": [
    "label = np.unique(trainingData[\"Parch\"], return_counts=False)\n",
    "\n",
    "survivedV, survivedC = np.unique(survived[\"Parch\"],return_counts=True)\n",
    "survivedV = np.append(survivedV,[4,6])\n",
    "survivedC = np.append(survivedC,[0,0])\n",
    "perishedV, perishedC = np.unique(perished[\"Parch\"],return_counts=True)\n",
    "\n",
    "plot = plt.subplot()\n",
    "index= np.arange(len(label))\n",
    "plot.bar(index-0.15, survivedC, width=0.3, color=\"g\", align=\"center\")\n",
    "plot.bar(index+0.15, perishedC, width=0.3, color=\"r\", align=\"center\")\n",
    "plot.set_xticks(index)\n",
    "plot.set_xticklabels(label)\n",
    "plt.show()"
   ]
  },
  {
   "cell_type": "markdown",
   "metadata": {},
   "source": [
    "### Embarked Entropy"
   ]
  },
  {
   "cell_type": "code",
   "execution_count": 20,
   "metadata": {},
   "outputs": [
    {
     "data": {
      "image/png": "[encoded data removed]",
      "text/plain": [
       "<Figure size 432x288 with 1 Axes>"
      ]
     },
     "metadata": {
      "needs_background": "light"
     },
     "output_type": "display_data"
    }
   ],
   "source": [
    "label = np.unique(trainingData[\"Embarked\"], return_counts=False)\n",
    "\n",
    "survivedV, survivedC = np.unique(survived[\"Embarked\"],return_counts=True)\n",
    "perishedV, perishedC = np.unique(perished[\"Embarked\"],return_counts=True)\n",
    "perishedV = np.append(perishedV, \"nan\")\n",
    "perishedC = np.append(perishedC, 0)\n",
    "\n",
    "plot = plt.subplot()\n",
    "index= np.arange(len(label))\n",
    "plot.bar(index-0.15, survivedC, width=0.3, color=\"g\", align=\"center\")\n",
    "plot.bar(index+0.15, perishedC, width=0.3, color=\"r\", align=\"center\")\n",
    "plot.set_xticks(index)\n",
    "plot.set_xticklabels(label)\n",
    "plt.show()"
   ]
  },
  {
   "cell_type": "markdown",
   "metadata": {},
   "source": [
    "### AgeGroup Entropy"
   ]
  },
  {
   "cell_type": "code",
   "execution_count": 21,
   "metadata": {},
   "outputs": [
    {
     "data": {
      "image/png": "[encoded data removed]",
      "text/plain": [
       "<Figure size 432x288 with 1 Axes>"
      ]
     },
     "metadata": {
      "needs_background": "light"
     },
     "output_type": "display_data"
    }
   ],
   "source": [
    "label = np.unique(trainingData[\"AgeGroup\"], return_counts=False)\n",
    "\n",
    "survivedV, survivedC = np.unique(survived[\"AgeGroup\"],return_counts=True)\n",
    "perishedV, perishedC = np.unique(perished[\"AgeGroup\"],return_counts=True)\n",
    "perishedV = np.append(perishedV, pd.Interval(75,90))\n",
    "perishedC = np.append(perishedC, 0)\n",
    "\n",
    "plot = plt.subplot()\n",
    "index= np.arange(len(label))\n",
    "plot.bar(index-0.15, survivedC, width=0.3, color=\"g\", align=\"center\")\n",
    "plot.bar(index+0.15, perishedC, width=0.3, color=\"r\", align=\"center\")\n",
    "plot.set_xticks(index)\n",
    "plot.set_xticklabels(label)\n",
    "plt.show()"
   ]
  },
  {
   "cell_type": "markdown",
   "metadata": {},
   "source": [
    "### TicketGroup Entropy"
   ]
  },
  {
   "cell_type": "code",
   "execution_count": 22,
   "metadata": {},
   "outputs": [
    {
     "data": {
      "image/png": "[encoded data removed]",
      "text/plain": [
       "<Figure size 432x288 with 1 Axes>"
      ]
     },
     "metadata": {
      "needs_background": "light"
     },
     "output_type": "display_data"
    }
   ],
   "source": [
    "label = np.unique(trainingData[\"TicketGroup\"], return_counts=False)\n",
    "\n",
    "survivedV, survivedC = np.unique(survived[\"TicketGroup\"],return_counts=True)\n",
    "perishedV, perishedC = np.unique(perished[\"TicketGroup\"],return_counts=True)\n",
    "\n",
    "plot = plt.subplot()\n",
    "index= np.arange(len(label))\n",
    "plot.bar(index-0.15, survivedC, width=0.3, color=\"g\", align=\"center\")\n",
    "plot.bar(index+0.15, perishedC, width=0.3, color=\"r\", align=\"center\")\n",
    "plot.set_xticks(index)\n",
    "plot.set_xticklabels(index)\n",
    "plt.show()"
   ]
  },
  {
   "cell_type": "markdown",
   "metadata": {},
   "source": [
    "### CostGroup Entropy"
   ]
  },
  {
   "cell_type": "code",
   "execution_count": 23,
   "metadata": {},
   "outputs": [
    {
     "data": {
      "image/png": "[encoded data removed]",
      "text/plain": [
       "<Figure size 432x288 with 1 Axes>"
      ]
     },
     "metadata": {
      "needs_background": "light"
     },
     "output_type": "display_data"
    }
   ],
   "source": [
    "label = np.unique(trainingData[\"CostGroup\"], return_counts=False)\n",
    "\n",
    "survivedV, survivedC = np.unique(survived[\"CostGroup\"],return_counts=True)\n",
    "perishedV, perishedC = np.unique(perished[\"CostGroup\"],return_counts=True)\n",
    "perishedV = np.append(perishedV, pd.Interval(500,550))\n",
    "perishedC = np.append(perishedC, 0)\n",
    "\n",
    "plot = plt.subplot()\n",
    "index= np.arange(len(label))\n",
    "plot.bar(index-0.15, survivedC, width=0.3, color=\"g\", align=\"center\")\n",
    "plot.bar(index+0.15, perishedC, width=0.3, color=\"r\", align=\"center\")\n",
    "plot.set_xticks(index)\n",
    "plot.set_xticklabels(index)\n",
    "plt.show()"
   ]
  },
  {
   "cell_type": "markdown",
   "metadata": {},
   "source": [
    "## Name Analysis"
   ]
  },
  {
   "cell_type": "code",
   "execution_count": 47,
   "metadata": {},
   "outputs": [],
   "source": [
    "def nameClass(row):\n",
    "    if (re.search(\"Mr\\.\",row[\"Name\"])):\n",
    "        return(\"Mr.\")\n",
    "    elif (re.search(\"Mrs\\.\",row[\"Name\"])):\n",
    "        return(\"Mrs.\")\n",
    "    elif (re.search(\"Miss\\.\",row[\"Name\"])):\n",
    "        return(\"Miss.\")\n",
    "    else:\n",
    "        return(\"No Title\")\n",
    "        \n",
    "trainingData[\"Title\"] = trainingData.apply(lambda row: nameClass(row), axis=1)"
   ]
  },
  {
   "cell_type": "code",
   "execution_count": 48,
   "metadata": {},
   "outputs": [
    {
     "data": {
      "image/png": "[encoded data removed]",
      "text/plain": [
       "<Figure size 432x288 with 1 Axes>"
      ]
     },
     "metadata": {
      "needs_background": "light"
     },
     "output_type": "display_data"
    }
   ],
   "source": [
    "survived = trainingData[trainingData[\"Survived\"] == 1]\n",
    "perished = trainingData[trainingData[\"Survived\"] == 0]\n",
    "label = np.unique(trainingData[\"Title\"], return_counts=False)\n",
    "\n",
    "survivedV, survivedC = np.unique(survived[\"Title\"],return_counts=True)\n",
    "perishedV, perishedC = np.unique(perished[\"Title\"],return_counts=True)\n",
    "#print(survivedV)\n",
    "#print(perishedV)\n",
    "\n",
    "plot = plt.subplot()\n",
    "index= np.arange(len(label))\n",
    "plot.bar(index-0.15, survivedC, width=0.3, color=\"g\", align=\"center\")\n",
    "plot.bar(index+0.15, perishedC, width=0.3, color=\"r\", align=\"center\")\n",
    "plot.set_xticks(index)\n",
    "plot.set_xticklabels(label)\n",
    "plt.show()"
   ]
  },
  {
   "cell_type": "code",
   "execution_count": null,
   "metadata": {},
   "outputs": [],
   "source": []
  }
 ],
 "metadata": {
  "kernelspec": {
   "display_name": "Python 3",
   "language": "python",
   "name": "python3"
  },
  "language_info": {
   "codemirror_mode": {
    "name": "ipython",
    "version": 3
   },
   "file_extension": ".py",
   "mimetype": "text/x-python",
   "name": "python",
   "nbconvert_exporter": "python",
   "pygments_lexer": "ipython3",
   "version": "3.7.4"
  }
 },
 "nbformat": 4,
 "nbformat_minor": 2
}
